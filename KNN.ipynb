{
  "nbformat": 4,
  "nbformat_minor": 0,
  "metadata": {
    "colab": {
      "provenance": [],
      "authorship_tag": "ABX9TyNTgexNvgxQfO+8tVaxAJHO",
      "include_colab_link": true
    },
    "kernelspec": {
      "name": "python3",
      "display_name": "Python 3"
    },
    "language_info": {
      "name": "python"
    }
  },
  "cells": [
    {
      "cell_type": "markdown",
      "metadata": {
        "id": "view-in-github",
        "colab_type": "text"
      },
      "source": [
        "<a href=\"https://colab.research.google.com/github/rahmani3101/Machine-Learning-/blob/main/KNN.ipynb\" target=\"_parent\"><img src=\"https://colab.research.google.com/assets/colab-badge.svg\" alt=\"Open In Colab\"/></a>"
      ]
    },
    {
      "cell_type": "markdown",
      "source": [
        "# ML Experiment 4: K-Nearest Neighbors (KNN) Classifier"
      ],
      "metadata": {
        "id": "4brkKYFvHLUN"
      }
    },
    {
      "cell_type": "markdown",
      "source": [
        "## Import Required Libraries"
      ],
      "metadata": {
        "id": "QZcS7DO_HN7O"
      }
    },
    {
      "cell_type": "code",
      "source": [
        "import pandas as pd\n",
        "import numpy as np\n",
        "import matplotlib.pyplot as plt\n",
        "from sklearn.model_selection import train_test_split\n",
        "from sklearn.preprocessing import StandardScaler\n",
        "from sklearn.neighbors import KNeighborsClassifier\n",
        "from sklearn.metrics import accuracy_score, confusion_matrix, classification_report\n",
        "from mlxtend.plotting import plot_decision_regions"
      ],
      "metadata": {
        "id": "vId5cfXQHK9t"
      },
      "execution_count": 1,
      "outputs": []
    },
    {
      "cell_type": "markdown",
      "source": [
        "## Step 1: Load the Dataset"
      ],
      "metadata": {
        "id": "yQuGwq1hHV7X"
      }
    },
    {
      "cell_type": "code",
      "execution_count": 2,
      "metadata": {
        "id": "mzUDwjp-HEqy"
      },
      "outputs": [],
      "source": [
        "data = {\n",
        "    'Hours': [2.5, 5.1, 3.2, 8.5, 3.5, 1.5, 9.2, 5.5, 8.3, 2.7, 7.7],\n",
        "    'Scores': [21, 47, 27, 75, 30, 20, 88, 60, 81, 25, 85],\n",
        "    'Result': ['Fail', 'Pass', 'Fail', 'Pass', 'Fail', 'Fail', 'Pass', 'Pass', 'Pass', 'Fail', 'Pass']\n",
        "}\n"
      ]
    },
    {
      "cell_type": "code",
      "source": [
        "df = pd.DataFrame(data)\n",
        "df.to_csv(\"student_knn.csv\", index=False)"
      ],
      "metadata": {
        "id": "4VhoHBudHZQD"
      },
      "execution_count": 3,
      "outputs": []
    },
    {
      "cell_type": "code",
      "source": [
        "# Load dataset\n",
        "dataset = pd.read_csv(\"student_knn.csv\")\n",
        "print(\"First 5 rows of dataset:\\n\", dataset.head())"
      ],
      "metadata": {
        "colab": {
          "base_uri": "https://localhost:8080/",
          "height": 0
        },
        "id": "VWg83CbrHiyS",
        "outputId": "e259ae1d-6504-4d88-fd0f-740cb3dbac39"
      },
      "execution_count": 4,
      "outputs": [
        {
          "output_type": "stream",
          "name": "stdout",
          "text": [
            "First 5 rows of dataset:\n",
            "    Hours  Scores Result\n",
            "0    2.5      21   Fail\n",
            "1    5.1      47   Pass\n",
            "2    3.2      27   Fail\n",
            "3    8.5      75   Pass\n",
            "4    3.5      30   Fail\n"
          ]
        }
      ]
    },
    {
      "cell_type": "markdown",
      "source": [
        "## Step 2: Explore and Visualize"
      ],
      "metadata": {
        "id": "qVCHi4dwHlbx"
      }
    },
    {
      "cell_type": "code",
      "source": [
        "dataset['Result'] = dataset['Result'].map({'Pass': 1, 'Fail': 0})"
      ],
      "metadata": {
        "id": "AtxE3HENHkRw"
      },
      "execution_count": 5,
      "outputs": []
    },
    {
      "cell_type": "code",
      "source": [
        "plt.figure(figsize=(7,5))\n",
        "for label, color in zip([0, 1], ['red', 'green']):\n",
        "    subset = dataset[dataset['Result'] == label]\n",
        "    plt.scatter(subset['Hours'], subset['Scores'], color=color, label=('Fail' if label == 0 else 'Pass'))\n",
        "plt.title('Student Performance: Pass vs Fail')\n",
        "plt.xlabel('Study Hours')\n",
        "plt.ylabel('Scores')\n",
        "plt.legend()\n",
        "plt.grid(True)\n",
        "plt.show()"
      ],
      "metadata": {
        "colab": {
          "base_uri": "https://localhost:8080/",
          "height": 487
        },
        "id": "whsz9oCmHpAx",
        "outputId": "f78768b9-a231-4753-b0ec-cf2d7393e375"
      },
      "execution_count": 6,
      "outputs": [
        {
          "output_type": "display_data",
          "data": {
            "text/plain": [
              "<Figure size 700x500 with 1 Axes>"
            ],
            "image/png": "[encoded data removed]"
          },
          "metadata": {}
        }
      ]
    },
    {
      "cell_type": "markdown",
      "source": [
        "## Step 3: Split Data into Train and Test Sets"
      ],
      "metadata": {
        "id": "1WgNlqo1HsGd"
      }
    },
    {
      "cell_type": "code",
      "source": [
        "X = dataset[['Hours', 'Scores']]\n",
        "y = dataset['Result']"
      ],
      "metadata": {
        "id": "5zos4_ExHqft"
      },
      "execution_count": 7,
      "outputs": []
    },
    {
      "cell_type": "code",
      "source": [
        "X_train, X_test, y_train, y_test = train_test_split(X, y, test_size=0.3, random_state=42)"
      ],
      "metadata": {
        "id": "ja8EQJFUHwGV"
      },
      "execution_count": 8,
      "outputs": []
    },
    {
      "cell_type": "code",
      "source": [
        "# Standardize features for KNN\n",
        "scaler = StandardScaler()\n",
        "X_train_scaled = scaler.fit_transform(X_train)\n",
        "X_test_scaled = scaler.transform(X_test)"
      ],
      "metadata": {
        "id": "oAanFGOcHxd3"
      },
      "execution_count": 9,
      "outputs": []
    },
    {
      "cell_type": "markdown",
      "source": [
        "## Step 4: Train KNN Classifier (for k=3,5,7)"
      ],
      "metadata": {
        "id": "lduifiv6H0Ov"
      }
    },
    {
      "cell_type": "code",
      "source": [
        "k_values = [3, 5, 7]\n",
        "models = {}"
      ],
      "metadata": {
        "id": "6QFQpcIQHzEI"
      },
      "execution_count": 10,
      "outputs": []
    },
    {
      "cell_type": "code",
      "source": [
        "for k in k_values:\n",
        "    knn = KNeighborsClassifier(n_neighbors=k)\n",
        "    knn.fit(X_train_scaled, y_train)\n",
        "    models[k] = knn"
      ],
      "metadata": {
        "id": "y9mvnDEcH2n7"
      },
      "execution_count": 11,
      "outputs": []
    },
    {
      "cell_type": "markdown",
      "source": [
        "## Step 5 & 6: Predict and Evaluate Model Performance"
      ],
      "metadata": {
        "id": "rXTcR4CaIBPa"
      }
    },
    {
      "cell_type": "code",
      "source": [
        "for k, model in models.items():\n",
        "    y_pred = model.predict(X_test_scaled)\n",
        "    acc = accuracy_score(y_test, y_pred)\n",
        "    cm = confusion_matrix(y_test, y_pred)\n",
        "    cr = classification_report(y_test, y_pred)\n",
        "\n",
        "    print(f\"\\n=== KNN Classifier (k={k}) ===\")\n",
        "    print(f\"Accuracy: {acc:.2f}\")\n",
        "    print(\"Confusion Matrix:\\n\", cm)\n",
        "    print(\"Classification Report:\\n\", cr)"
      ],
      "metadata": {
        "colab": {
          "base_uri": "https://localhost:8080/",
          "height": 0
        },
        "id": "j6sP-JRwH4c1",
        "outputId": "58866854-df01-4039-905b-011976bf356c"
      },
      "execution_count": 12,
      "outputs": [
        {
          "output_type": "stream",
          "name": "stdout",
          "text": [
            "\n",
            "=== KNN Classifier (k=3) ===\n",
            "Accuracy: 1.00\n",
            "Confusion Matrix:\n",
            " [[3 0]\n",
            " [0 1]]\n",
            "Classification Report:\n",
            "               precision    recall  f1-score   support\n",
            "\n",
            "           0       1.00      1.00      1.00         3\n",
            "           1       1.00      1.00      1.00         1\n",
            "\n",
            "    accuracy                           1.00         4\n",
            "   macro avg       1.00      1.00      1.00         4\n",
            "weighted avg       1.00      1.00      1.00         4\n",
            "\n",
            "\n",
            "=== KNN Classifier (k=5) ===\n",
            "Accuracy: 0.25\n",
            "Confusion Matrix:\n",
            " [[0 3]\n",
            " [0 1]]\n",
            "Classification Report:\n",
            "               precision    recall  f1-score   support\n",
            "\n",
            "           0       0.00      0.00      0.00         3\n",
            "           1       0.25      1.00      0.40         1\n",
            "\n",
            "    accuracy                           0.25         4\n",
            "   macro avg       0.12      0.50      0.20         4\n",
            "weighted avg       0.06      0.25      0.10         4\n",
            "\n",
            "\n",
            "=== KNN Classifier (k=7) ===\n",
            "Accuracy: 0.25\n",
            "Confusion Matrix:\n",
            " [[0 3]\n",
            " [0 1]]\n",
            "Classification Report:\n",
            "               precision    recall  f1-score   support\n",
            "\n",
            "           0       0.00      0.00      0.00         3\n",
            "           1       0.25      1.00      0.40         1\n",
            "\n",
            "    accuracy                           0.25         4\n",
            "   macro avg       0.12      0.50      0.20         4\n",
            "weighted avg       0.06      0.25      0.10         4\n",
            "\n"
          ]
        },
        {
          "output_type": "stream",
          "name": "stderr",
          "text": [
            "/usr/local/lib/python3.12/dist-packages/sklearn/metrics/_classification.py:1565: UndefinedMetricWarning: Precision is ill-defined and being set to 0.0 in labels with no predicted samples. Use `zero_division` parameter to control this behavior.\n",
            "  _warn_prf(average, modifier, f\"{metric.capitalize()} is\", len(result))\n",
            "/usr/local/lib/python3.12/dist-packages/sklearn/metrics/_classification.py:1565: UndefinedMetricWarning: Precision is ill-defined and being set to 0.0 in labels with no predicted samples. Use `zero_division` parameter to control this behavior.\n",
            "  _warn_prf(average, modifier, f\"{metric.capitalize()} is\", len(result))\n",
            "/usr/local/lib/python3.12/dist-packages/sklearn/metrics/_classification.py:1565: UndefinedMetricWarning: Precision is ill-defined and being set to 0.0 in labels with no predicted samples. Use `zero_division` parameter to control this behavior.\n",
            "  _warn_prf(average, modifier, f\"{metric.capitalize()} is\", len(result))\n",
            "/usr/local/lib/python3.12/dist-packages/sklearn/metrics/_classification.py:1565: UndefinedMetricWarning: Precision is ill-defined and being set to 0.0 in labels with no predicted samples. Use `zero_division` parameter to control this behavior.\n",
            "  _warn_prf(average, modifier, f\"{metric.capitalize()} is\", len(result))\n",
            "/usr/local/lib/python3.12/dist-packages/sklearn/metrics/_classification.py:1565: UndefinedMetricWarning: Precision is ill-defined and being set to 0.0 in labels with no predicted samples. Use `zero_division` parameter to control this behavior.\n",
            "  _warn_prf(average, modifier, f\"{metric.capitalize()} is\", len(result))\n",
            "/usr/local/lib/python3.12/dist-packages/sklearn/metrics/_classification.py:1565: UndefinedMetricWarning: Precision is ill-defined and being set to 0.0 in labels with no predicted samples. Use `zero_division` parameter to control this behavior.\n",
            "  _warn_prf(average, modifier, f\"{metric.capitalize()} is\", len(result))\n"
          ]
        }
      ]
    },
    {
      "cell_type": "markdown",
      "source": [
        "## Step 7: Visualize Decision Boundary for Best k (say k=3)"
      ],
      "metadata": {
        "id": "UGlzRpG-IHj1"
      }
    },
    {
      "cell_type": "code",
      "source": [
        "best_k = 3\n",
        "best_model = models[best_k]"
      ],
      "metadata": {
        "id": "3aLVdA7tIEu4"
      },
      "execution_count": 13,
      "outputs": []
    },
    {
      "cell_type": "code",
      "source": [
        "X_combined = np.vstack((X_train_scaled, X_test_scaled))\n",
        "y_combined = np.hstack((y_train, y_test))"
      ],
      "metadata": {
        "id": "Ic80NiqSIKKo"
      },
      "execution_count": 14,
      "outputs": []
    },
    {
      "cell_type": "code",
      "source": [
        "plt.figure(figsize=(8,6))\n",
        "plot_decision_regions(X_combined, y_combined.astype(np.integer), clf=best_model, legend=2)\n",
        "plt.title(f'KNN Decision Boundary (k={best_k})')\n",
        "plt.xlabel('Hours (Standardized)')\n",
        "plt.ylabel('Scores (Standardized)')\n",
        "plt.show()"
      ],
      "metadata": {
        "colab": {
          "base_uri": "https://localhost:8080/",
          "height": 619
        },
        "id": "2R7J9cE6INW3",
        "outputId": "292d769b-ed05-46a7-a77c-7486cab872a5"
      },
      "execution_count": 15,
      "outputs": [
        {
          "output_type": "stream",
          "name": "stderr",
          "text": [
            "/tmp/ipython-input-2803008730.py:2: DeprecationWarning: Converting `np.integer` or `np.signedinteger` to a dtype is deprecated. The current result is `np.dtype(np.int_)` which is not strictly correct. Note that the result depends on the system. To ensure stable results use may want to use `np.int64` or `np.int32`.\n",
            "  plot_decision_regions(X_combined, y_combined.astype(np.integer), clf=best_model, legend=2)\n"
          ]
        },
        {
          "output_type": "display_data",
          "data": {
            "text/plain": [
              "<Figure size 800x600 with 1 Axes>"
            ],
            "image/png": "[encoded data removed]"
          },
          "metadata": {}
        }
      ]
    },
    {
      "cell_type": "markdown",
      "source": [
        "## Step 8: Predict for New Student (9.25 hrs, 85 score)"
      ],
      "metadata": {
        "id": "Tryzd0nDIQkv"
      }
    },
    {
      "cell_type": "code",
      "source": [
        "new_data = np.array([[9.25, 85]])\n",
        "new_data_scaled = scaler.transform(new_data)"
      ],
      "metadata": {
        "colab": {
          "base_uri": "https://localhost:8080/",
          "height": 0
        },
        "id": "QSR0hn9uIOwQ",
        "outputId": "8898a4d5-790a-4df2-b1fd-35cd2a32f1fe"
      },
      "execution_count": 16,
      "outputs": [
        {
          "output_type": "stream",
          "name": "stderr",
          "text": [
            "/usr/local/lib/python3.12/dist-packages/sklearn/utils/validation.py:2739: UserWarning: X does not have valid feature names, but StandardScaler was fitted with feature names\n",
            "  warnings.warn(\n"
          ]
        }
      ]
    },
    {
      "cell_type": "code",
      "source": [
        "prediction = best_model.predict(new_data_scaled)[0]\n",
        "print(f\"\\nPrediction for student (Hours=9.25, Score=85): {'Pass' if prediction == 1 else 'Fail'}\")"
      ],
      "metadata": {
        "colab": {
          "base_uri": "https://localhost:8080/",
          "height": 0
        },
        "id": "OPAzoaftITY7",
        "outputId": "0239c6f2-dc41-4e5a-f056-6fb57a4763ff"
      },
      "execution_count": 17,
      "outputs": [
        {
          "output_type": "stream",
          "name": "stdout",
          "text": [
            "\n",
            "Prediction for student (Hours=9.25, Score=85): Pass\n"
          ]
        }
      ]
    }
  ]
}